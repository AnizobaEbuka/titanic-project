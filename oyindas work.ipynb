{
 "cells": [
  {
   "cell_type": "code",
   "execution_count": 1,
   "metadata": {},
   "outputs": [],
   "source": [
    "import random\n",
    "import numpy as np\n",
    "import time"
   ]
  },
  {
   "cell_type": "code",
   "execution_count": 2,
   "metadata": {},
   "outputs": [],
   "source": [
    "class welcome:\n",
    "    def intro(self):\n",
    "        print(\"welcome\")\n",
    "        name = input(\"what is your name?   (after inputting your name press enter)\\n>\\n\")\n",
    "        print(\"hello \", name,\", you are welcome. lets play whot\")\n",
    "        \n",
    "    def cards(self):\n",
    "        print(\"the cards used to play this game are a combination shapes and numbers\")\n",
    "        print(\"the shapes are: \"+ '[\"square\", \"circle\",\"star\",\"triangle\", \"plus\"]')\n",
    "        print(\"the numbers are :\"+ '[ 1  2  3  4  5  6  7  8  9 10 11 12 13 14]')\n"
   ]
  },
  {
   "cell_type": "code",
   "execution_count": 4,
   "metadata": {},
   "outputs": [],
   "source": [
    "class things_in_the_game:\n",
    "    def __init__ (self):\n",
    "        self.shapes = [\"square\", \"circle\",\"star\",\"triangle\", \"plus\"]       #shapes possible\n",
    "        self.numbers = np.array(np.arange(1,15))      #numbers 1-14\n",
    "        self.yourcards=[[random.choice(self.shapes),random.choice(self.numbers)] for i in np.arange(0,4)] #form the cards\n",
    "        self.card_on_top=[random.choice(self.shapes),random.choice(self.numbers)] #this is the card on top\n",
    "        self.compcards=[[random.choice(self.shapes),random.choice(self.numbers)] for i in np.arange(0,4)] #form the cards\n",
    "        print('your cards are',self.yourcards) #print the formed cards\n",
    "        \n",
    "    def print_card_on_top(self):\n",
    "        print(\"the card on top is: \" , self.card_on_top)          #this prints the card ontop\n",
    "        \n",
    "    def replace_cards_on_top(self,x):\n",
    "        self.yourcards=x                                          #this puts the cards the player/computer plays\n",
    "        \n",
    "    def shuffle_cards (self):\n",
    "        print(\"we are shuffling the cards\")\n",
    "        time.sleep(4)        #pretend like its shuffling the cards\n",
    "        print(\"we are done\")\n",
    "    \n",
    "    def print_playercard (self):\n",
    "        print (\"your cards are: \\n\")   #it prints out the cards\n",
    "        print (self.yourcards)\n",
    "        return self.yourcards\n",
    "    \n",
    "    def market (self):\n",
    "        self.yourcards.append([random.choice(self.shapes),random.choice(self.numbers)]) #add a new card to your cards\n",
    "        print(self.yourcards) \n",
    "    \n",
    "    def pick_two(self):\n",
    "        self.market()\n",
    "        self.market()\n",
    "        print(self.yourcards)\n",
    "        \n",
    "    def suspension(self):\n",
    "        pass\n",
    "    def hold_on(self):\n",
    "        pass\n",
    "    \n",
    "    def pick_three(self):\n",
    "        self.market()\n",
    "        self.market()\n",
    "        self.market()\n"
   ]
  },
  {
   "cell_type": "code",
   "execution_count": 5,
   "metadata": {},
   "outputs": [],
   "source": [
    "class playgame(things_in_the_game):\n",
    "    def playerplay(self):\n",
    "        print(\"play a card by typing the number where thr csrd falls\\n ie if cards are circle 9,cicle 2\\\n",
    "        then card 1 is circle 9 while card 2 is circle 2\")\n",
    "        print(\"you can go to market by typing an alphabet\")\n",
    "        y=input(\"input the card number\")\n",
    "        try:\n",
    "            x=int(y)                            #convert a player input to an int and if error occurs, go to except            \n",
    "            if x<=len(self.yourcards) & x>0:               #if num inputted is>0 and <number of cards\n",
    "                    for item in self.yourcards[x-1]:           #check if card played matches card on top by shape or by number\n",
    "                        if item in self.card_on_top:            #check shape then check number\n",
    "                            self.card_on_top=self.yourcards[x-1]      #replace the card with played card\n",
    "                            del self.yourcards[x-1]                   #delete the card from players list of cards\n",
    "                            break\n",
    "                        else:\n",
    "                            print(\"either the shape or number has to match, if it does then ignore this message\")\n",
    "            else:\n",
    "                print ('you typed in a wrong number')           #player typed in a wrong number   \n",
    "        except:\n",
    "            self.market()                            #go to market if player didnt type in a number\n",
    "    \n",
    "    def computerplay(self):\n",
    "        x=len(self.compcards)\n",
    "        for cards in self.compcards:\n",
    "            for shapeornumber in cards:\n",
    "                if shapeornumber in self.card_on_top:\n",
    "                    self.card_on_top=self.yourcards[x-1]      #replace the card with played card\n",
    "                            del self.yourcards[x-1]                   #delete the card from players list of cards\n",
    "                            break\n",
    "                else:\n",
    "                    print(\"either the shape or number has to match, if it does then ignore this message\")"
   ]
  },
  {
   "cell_type": "code",
   "execution_count": null,
   "metadata": {},
   "outputs": [],
   "source": []
  }
 ],
 "metadata": {
  "kernelspec": {
   "display_name": "Python 3",
   "language": "python",
   "name": "python3"
  },
  "language_info": {
   "codemirror_mode": {
    "name": "ipython",
    "version": 3
   },
   "file_extension": ".py",
   "mimetype": "text/x-python",
   "name": "python",
   "nbconvert_exporter": "python",
   "pygments_lexer": "ipython3",
   "version": "3.7.6"
  }
 },
 "nbformat": 4,
 "nbformat_minor": 4
}
